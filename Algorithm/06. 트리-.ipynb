{
 "cells": [
  {
   "cell_type": "markdown",
   "metadata": {},
   "source": [
    "## 대표적인 데이터 구조7: 트리"
   ]
  },
  {
   "cell_type": "markdown",
   "metadata": {},
   "source": [
    "### 1. 트리 (Tree) 구조\n",
    "- 트리: Node와 Branch를 이용해서, 사이클을 이루지 않도록 구성한 데이터 구조\n",
    "- 실제로 어디에 많이 사용되나? \n",
    "  - 트리 중 이진 트리 (Binary Tree) 형태의 구조로, 탐색(검색) 알고리즘 구현을 위해 많이 사용됨"
   ]
  },
  {
   "cell_type": "markdown",
   "metadata": {},
   "source": [
    "### 2. 알아둘 용어\n",
    "- Node: 트리에서 데이터를 저장하는 기본 요소 (데이터와 다른 연결된 노드에 대한 Branch 정보 포함)\n",
    "- Root Node: 트리 맨 위에 있는 노드\n",
    "- Level: 최상위 노드를 Level 0으로 하였을 때, 하위 Branch로 연결된 노드의 깊이를 나타냄\n",
    "- Parent Node: 어떤 노드의 다음 레벨에 연결된 노드\n",
    "- Child Node: 어떤 노드의 상위 레벨에 연결된 노드\n",
    "- Leaf Node (Terminal Node): Child Node가 하나도 없는 노드\n",
    "- Sibling (Brother Node): 동일한 Parent Node를 가진 노드\n",
    "- Depth: 트리에서 Node가 가질 수 있는 최대 Level\n",
    "<img src=\"http://www.fun-coding.org/00_Images/tree.png\" width=\"600\" />\n"
   ]
  },
  {
   "cell_type": "markdown",
   "metadata": {},
   "source": [
    "### 3. 이진 트리와 이진 탐색 트리 (Binary Search Tree)\n",
    "- 이진 트리: 노드의 최대 Branch가 2인 트리\n",
    "- 이진 탐색 트리 (Binary Search Tree, BST): 이진 트리에 다음과 같은 추가적인 조건이 있는 트리\n",
    "  - 왼쪽 노드는 해당 노드보다 작은 값, 오른쪽 노드는 해당 노드보다 큰 값을 가지고 있음!\n",
    "  \n",
    "<img src=\"https://www.mathwarehouse.com/programming/images/binary-search-tree/binary-search-tree-insertion-animation.gif\" />\n",
    "\n",
    "(출처: https://www.mathwarehouse.com/programming/gifs/binary-search-tree.php#binary-search-tree-insertion-node)  "
   ]
  },
  {
   "cell_type": "markdown",
   "metadata": {},
   "source": [
    "### 4. 자료 구조 이진 탐색 트리의 장점과 주요 용도\n",
    "- 주요 용도: 데이터 검색(탐색) \n",
    "- 장점: 탐색 속도를 개선할 수 있음\n",
    "\n",
    "> 단점은 이진 탐색 트리 알고리즘 이해 후에 살펴보기로 함\n",
    "\n",
    "### 이진트리와 정렬된 배열간의 탐색 비교\n",
    "<img src=\"https://www.mathwarehouse.com/programming/images/binary-search-tree/binary-search-tree-sorted-array-animation.gif\" />\n",
    "\n",
    "(출처: https://www.mathwarehouse.com/programming/gifs/binary-search-tree.php#binary-search-tree-insertion-node)"
   ]
  },
  {
   "cell_type": "markdown",
   "metadata": {},
   "source": [
    "### 5. 파이썬 객체지향 프로그래밍으로 링크드 리스트 구현하기"
   ]
  },
  {
   "cell_type": "markdown",
   "metadata": {},
   "source": [
    "#### 5.1. 노드 클래스 만들기"
   ]
  },
  {
   "cell_type": "code",
   "execution_count": 19,
   "metadata": {},
   "outputs": [],
   "source": [
    "class Node:\n",
    "    def __init__(self, value):\n",
    "        self.value = value\n",
    "        self.left = None\n",
    "        self.right = None"
   ]
  },
  {
   "cell_type": "markdown",
   "metadata": {},
   "source": [
    "#### 5.2. 이진 탐색 트리에 데이터 넣기\n",
    "* 이진 탐색 트리 조건에 부합하게 데이터를 넣어야 함"
   ]
  },
  {
   "cell_type": "code",
   "execution_count": 20,
   "metadata": {},
   "outputs": [],
   "source": [
    "\n",
    "class NodeMgmt:\n",
    "    def __init__(self, head):\n",
    "        self.head = head\n",
    "        \n",
    "    def insert(self,value):\n",
    "        self.cur_node =  self.head # 시작은 항상 가장 꼭대기 값으로\n",
    "       \n",
    "        while True: # 순회\n",
    "            if value < self.cur_node.value: # 새로운 값 value가 현재노드 cur_node보다 작다면 => 왼쪽으로 가야함\n",
    "                if self.cur_node.left != None: # 왼쪽에 가야하기 때문에 cur_node의 왼쪽에 값이 있는지 확인 먼저 해줘야함\n",
    "                    # 만약 왼쪽에 값이 이미 있다면 그 왼쪽 값과 또 비교해야함 => cur_node를 cur_node.left로 바꾸어줌 . 비교대상 변경\n",
    "                    self.cur_node = self.cur_node.left\n",
    "                else:\n",
    "                    # 왼쪽에 값이 없다면, value를 왼쪽에 넣어주면 끝!\n",
    "                    self.cur_node.left = Node(value)\n",
    "                    break\n",
    "                    \n",
    "            else: # 새로운 값 value가 현재 노드보다 크다면 오른쪽으로\n",
    "                if self.cur_node.right != None:\n",
    "                    self.cur_node = self.cur_node.right\n",
    "                else:\n",
    "                    self.cur_node.right =  Node(value)\n",
    "                break"
   ]
  },
  {
   "cell_type": "code",
   "execution_count": 21,
   "metadata": {},
   "outputs": [],
   "source": [
    "head = Node(1)\n",
    "BST = NodeMgmt(head)\n",
    "BST.insert(2)"
   ]
  },
  {
   "cell_type": "markdown",
   "metadata": {
    "collapsed": true
   },
   "source": [
    "#### 5.3. 이진 탐색 트리 탐색"
   ]
  },
  {
   "cell_type": "code",
   "execution_count": 56,
   "metadata": {},
   "outputs": [],
   "source": [
    "class NodeMgnt:\n",
    "    def __init__(self,head):\n",
    "        self.head = head\n",
    "        \n",
    "    def insert(self, value):\n",
    "        self.cur_node = self.head\n",
    "        while True :\n",
    "            if value < slef.cur_node.value:\n",
    "                if self.cur_node.left != None :\n",
    "                    self.cur_node =  self.cur_node.left\n",
    "                else:\n",
    "                    self.cur_node.left = Node(value)\n",
    "                    break\n",
    "                \n",
    "            else:\n",
    "                if self.cur_node.right != None:\n",
    "                    self.cur_node = self.cur_node.right\n",
    "                    \n",
    "                else:\n",
    "                    self.cur_node.right = Node(value)\n",
    "                    break\n",
    "    \n",
    "    \n",
    "    def search(self, value):\n",
    "        self.cur_node = self.head\n",
    "        while self.cur_node:\n",
    "            if self.cur_node.value == value:\n",
    "                return True\n",
    "            elif value < self.cur_node.value:\n",
    "                    slef.cur_node = self.cur_node.left\n",
    "            else:\n",
    "                self.cur_node = self.cur_node.right\n",
    "        return False # 다 순회 했는데도 없다면 false\n",
    "        "
   ]
  },
  {
   "cell_type": "code",
   "execution_count": 57,
   "metadata": {},
   "outputs": [],
   "source": [
    "head = Node(1)\n",
    "BST = NodeMgmt(head)\n",
    "BST.insert(2)\n",
    "BST.insert(3)\n",
    "BST.insert(0)\n",
    "BST.insert(4)\n",
    "BST.insert(8)"
   ]
  },
  {
   "cell_type": "code",
   "execution_count": 58,
   "metadata": {},
   "outputs": [
    {
     "name": "stdout",
     "output_type": "stream",
     "text": [
      "False\n"
     ]
    }
   ],
   "source": [
    "print(BST.search(-1))"
   ]
  },
  {
   "cell_type": "markdown",
   "metadata": {},
   "source": [
    "#### 5.4. 이진 탐색 트리 삭제 \n",
    "* 매우 복잡함. **경우를 나누어서 이해하는 것이 좋음**\n",
    "\n",
    "#### 5.4.1. Leaf Node 삭제 \n",
    "* Leaf Node: Child Node 가 없는 Node\n",
    "* 삭제할 Node의 Parent Node가 삭제할 Node를 가리키지 않도록 한다. \n",
    "<img src=\"http://www.fun-coding.org/00_Images/tree_remove_leaf.png\" width=\"800\" />\n",
    "\n",
    "#### 5.4.2. Child Node 가 하나인 Node 삭제 \n",
    "* 삭제할 Node의 Parent Node가 삭제할 Node의 Child Node를 가리키도록 한다.\n",
    "<img src=\"http://www.fun-coding.org/00_Images/tree_remove_1child.png\" width=\"800\" />\n",
    "\n",
    "#### 5.4.3. Child Node 가 두 개인 Node 삭제\n",
    "1. **삭제할 Node의 오른쪽 자식 중, 가장 작은 값을 삭제할 Node의 Parent Node가 가리키도록 한다.**\n",
    "2. 삭제할 Node의 왼쪽 자식 중, 가장 큰 값을 삭제할 Node의 Parent Node가 가리키도록 한다.\n",
    "<img src=\"http://www.fun-coding.org/00_Images/tree_remove_2child.png\" width=\"800\" />\n",
    "\n",
    "##### 5.4.3.1. 삭제할 Node의 오른쪽 자식중, 가장 작은 값을 삭제할 Node의 Parent Node가 가리키게 할 경우\n",
    "- 삭제할 Node의 오른쪽 자식 선택\n",
    "- 오른쪽 자식의 가장 왼쪽에 있는 Node를 선택\n",
    "- 해당 Node를 삭제할 Node의 Parent Node의 왼쪽 Branch가 가리키게 함\n",
    "- 해당 Node의 왼쪽 Branch가 삭제할 Node의 왼쪽 Child Node를 가리키게 함\n",
    "- 해당 Node의 오른쪽 Branch가 삭제할 Node의 오른쪽 Child Node를 가리키게 함\n",
    "- 만약 해당 Node가 오른쪽 Child Node를 가지고 있었을 경우에는, 해당 Node의 본래 Parent Node의 왼쪽 Branch가 해당 오른쪽 Child Node를 가리키게 함"
   ]
  },
  {
   "cell_type": "markdown",
   "metadata": {},
   "source": [
    "### 5.5. 이진 탐색 트리 삭제 코드 구현과 분석"
   ]
  },
  {
   "cell_type": "markdown",
   "metadata": {},
   "source": [
    "#### 5.5.1 삭제할 Node 탐색\n",
    "- 삭제할 Node가 없는 경우도 처리해야 함\n",
    "  - 이를 위해 삭제할 Node가 없는 경우는 False를 리턴하고, 함수를 종료 시킴"
   ]
  },
  {
   "cell_type": "code",
   "execution_count": 63,
   "metadata": {},
   "outputs": [
    {
     "ename": "IndentationError",
     "evalue": "unexpected indent (<ipython-input-63-c406e218202a>, line 2)",
     "output_type": "error",
     "traceback": [
      "\u001b[1;36m  File \u001b[1;32m\"<ipython-input-63-c406e218202a>\"\u001b[1;36m, line \u001b[1;32m2\u001b[0m\n\u001b[1;33m    searched = False\u001b[0m\n\u001b[1;37m    ^\u001b[0m\n\u001b[1;31mIndentationError\u001b[0m\u001b[1;31m:\u001b[0m unexpected indent\n"
     ]
    }
   ],
   "source": [
    "# def delete(self, value):\n",
    "    searched = False\n",
    "    self.cur_node = slef.head\n",
    "    self.parent = self.head\n",
    "    \n",
    "    while self.cur_node :\n",
    "        if self.cur_node.value == value:\n",
    "            searched = True\n",
    "            break\n",
    "        elif value < slef.cur_node.value:\n",
    "            self.parent = self.cur_node\n",
    "            self.cur_node = self.cur_node.left\n",
    "        else:\n",
    "            self.parent = slef.cur_node\n",
    "            self.cur_node = self.cur_node.right\n",
    "    \n",
    "    if searched == False:\n",
    "        return False\n",
    "    \n",
    "    # 이 밑으로 각 경우에 해당하는 코드를 하나씩 작성 해볼 예정...!"
   ]
  },
  {
   "cell_type": "markdown",
   "metadata": {},
   "source": [
    "#### 5.5.2. Case1: 삭제할 Node가 Leaf Node인 경우\n",
    "<img src=\"http://www.fun-coding.org/00_Images/tree_remove_leaf_code.png\" width=\"600\" />"
   ]
  },
  {
   "cell_type": "code",
   "execution_count": null,
   "metadata": {},
   "outputs": [],
   "source": [
    "# self.current_node 가 삭제할 Node, self.parent는 삭제할 Node의 Parent Node인 상태\n",
    "    if self.cur_node.left == None and self.cur_node.right == None:\n",
    "        if value < self.parent.vallue:\n",
    "            self.parent.left =  None # 연결 끊어주기\n",
    "        else:\n",
    "            self.parent.right = None # 연결 끊어주기\n",
    "        del self.cur_node"
   ]
  },
  {
   "cell_type": "markdown",
   "metadata": {},
   "source": [
    "#### 5.5.2. Case2: 삭제할 Node가 Child Node를 한 개 가지고 있을 경우\n",
    "<img src=\"http://www.fun-coding.org/00_Images/tree_remove_1child_code.png\" width=\"400\" />"
   ]
  },
  {
   "cell_type": "code",
   "execution_count": 64,
   "metadata": {},
   "outputs": [
    {
     "ename": "SyntaxError",
     "evalue": "invalid syntax (<ipython-input-64-3a7bcadd2b1a>, line 10)",
     "output_type": "error",
     "traceback": [
      "\u001b[1;36m  File \u001b[1;32m\"<ipython-input-64-3a7bcadd2b1a>\"\u001b[1;36m, line \u001b[1;32m10\u001b[0m\n\u001b[1;33m    else;\u001b[0m\n\u001b[1;37m        ^\u001b[0m\n\u001b[1;31mSyntaxError\u001b[0m\u001b[1;31m:\u001b[0m invalid syntax\n"
     ]
    }
   ],
   "source": [
    "    #1. 자식이 왼쪽에 있을 때 먼저\n",
    "    # =>  case 1: 삭제할 노드가 부모노드의 왼쪽에 있었다면, 현재 노드의 왼쪽(왼쪽 자식) 부모노드 왼쪽을 연결 self.parent.left = self.current_node.left\n",
    "    # => case 2: 삭제할 노드가 부모노드 오른쪽에 있었다면, 현재 노드의 왼쪽(왼쪽 자식) 부모노드 오른쪽 연결  self.parent.right = self.current_node.left\n",
    "    if self.cur_node.left != None and self.cur_node.right == None:\n",
    "        if value < self.parent.value:\n",
    "            self.parent.left = self.cur_node.left\n",
    "        else :  \n",
    "            self.parent.right = self.cur_node.left\n",
    "   \n",
    "    #2. 자식이 오른쪽에 있을 때 \n",
    "    # =>  case 1: 삭제할 노드가 부모노드의 왼쪽에 있었다면, 현재 노드의 오른쪽(오른쪽 자식) 부모노드 왼쪽을 연결 self.parent.left = self.current_node.right\n",
    "    # => case 2: 삭제할 노드가 부모노드 오른쪽에 있었다면, 현재 노드의 오른쪽(오른쪽 자식) 부모노드 오른쪽 연결  self.parent.right = self.current_node.right\n",
    "    elif self.cur_node.left == None and self.cur_node.right != None:\n",
    "        if value < self.parent.value:\n",
    "            self.parent.left = self.cur_node.right\n",
    "        else:\n",
    "            self.parent.right = self.cur_node.right\n",
    "            "
   ]
  },
  {
   "cell_type": "markdown",
   "metadata": {},
   "source": [
    "#### 5.5.3. Case3-1: 삭제할 Node가 Child Node를 두 개 가지고 있을 경우 (삭제할 Node가 Parent Node 왼쪽에 있을 때)\n",
    "* 기본 사용 가능 전략\n",
    "  1. **삭제할 Node의 오른쪽 자식 중, 가장 작은 값을 삭제할 Node의 Parent Node가 가리키도록 한다.**\n",
    "  2. 삭제할 Node의 왼쪽 자식 중, 가장 큰 값을 삭제할 Node의 Parent Node가 가리키도록 한다.\n",
    "* 기본 사용 가능 전략 중, 1번 전략을 사용하여 코드를 구현하기로 함\n",
    "  - 경우의 수가 또다시 두가지가 있음\n",
    "    - **Case3-1-1:** 삭제할 Node가 Parent Node의 왼쪽에 있고, 삭제할 Node의 오른쪽 자식 중, 가장 작은 값을 가진 Node의 Child Node가 없을 때 즉, 밑에 그림에서  16이 child node가 없을때\n",
    "    - **Case3-1-2:** 삭제할 Node가 Parent Node의 왼쪽에 있고, 삭제할 Node의 오른쪽 자식 중, 가장 작은 값을 가진 Node의 오른쪽에 Child Node가 있을 때, 밑에 그림과 동일하게 16이 child node ( 17 )을 가지고 있을때\n",
    "       - 가장 작은 값을 가진 Node의 Child Node가 왼쪽에 있을 경우는 없음, 왜냐하면 왼쪽 Node가 있다는 것은 해당 Node보다 더 작은 값을 가진 Node가 있다는 뜻이기 때문임\n",
    "\n",
    "\n",
    "<img src=\"http://www.fun-coding.org/00_Images/tree_remove_2child_code_left.png\" width=\"600\" />"
   ]
  },
  {
   "cell_type": "code",
   "execution_count": null,
   "metadata": {},
   "outputs": [],
   "source": [
    "    if self.cur_node.left != None and self.cur_node.right != None:\n",
    "        \n",
    "        if value < self.parent.value: # case 3-1 : 삭제할 노드가 부모 노드의 왼쪽에 있을 떄\n",
    "            self.change_node = self.cur_node.right # 삭제할 노드의 오른쪽 자식들중 가장 작은 값\n",
    "            self.change_node_parent = self.cur_node.right # 삭제할 노드의 오른쪽 자식들 중 가장 작은 값의 부모4\n",
    "            \n",
    "            # 가장 작은 값을 찾기 위해 순회\n",
    "            while self.change_node.left != None # 가장 작은 값을 찾으려면 더이상 왼쪽 값이 없을 때까지임 ! 즉, 왼쪽이 없을 때 까지 순회하자\n",
    "                self.change_node_parent = self.change_node\n",
    "                self.change_node = self.change_node.left\n",
    "            \n",
    "            # 가장 작은 값을 찾음 => self.cahnge_node\n",
    "            # 이제 이 가장 작은 값이 오른쪽 자식을 가지고 있을때, 없을 때\n",
    "            if self.change_node.right == None: # 1. 가장 작은 값이 자식이 없다면, 가장 작은 값을 지금 삭제할 노드로 올려줄꺼니까, 가장 작은 값의 부모(self.chang_node_parent)와 연결을 끊어줘야함\n",
    "                self.change_node_parent.left = None\n",
    "            \n",
    "            else: # 가장 작은 값이 오른쪽 자식을 가진다면....가장작은 값의 오른쪽 자식과 가장작은 값의 부모를 연결해야함\n",
    "                self.change_node_parent.left =  self.change_node.right\n",
    "            \n",
    "            \n",
    "            # 연결 끊고 이어주는 작업 끝\n",
    "            # 이제, 가장 작은 값 self.change_node를 삭제할 노드로 올려주자\n",
    "            self.parent.left = self.change_node # 삭제할 노드의 부모랑 연결해주고\n",
    "            self.change_node.left = self.cur_node.left # 삭제할 노드의 왼쪽 연결\n",
    "            self.change_node.right = self.cur_node.right # 삭제할 노드의 오른쪽 연결\n"
   ]
  },
  {
   "cell_type": "markdown",
   "metadata": {},
   "source": [
    "#### 5.5.4. Case3-2: 삭제할 Node가 Child Node를 두 개 가지고 있을 경우 (삭제할 Node가 Parent Node 오른쪽에 있을 때)\n",
    "* 기본 사용 가능 전략\n",
    "  1. **삭제할 Node의 오른쪽 자식 중, 가장 작은 값을 삭제할 Node의 Parent Node가 가리키도록 한다.**\n",
    "  2. 삭제할 Node의 왼쪽 자식 중, 가장 큰 값을 삭제할 Node의 Parent Node가 가리키도록 한다.\n",
    "* 기본 사용 가능 전략 중, 1번 전략을 사용하여 코드를 구현하기로 함\n",
    "  - 경우의 수가 또다시 두가지가 있음\n",
    "    - **Case3-2-1:** 삭제할 Node가 Parent Node의 오른쪽에 있고, 삭제할 Node의 오른쪽 자식 중, 가장 작은 값을 가진 Node의 Child Node가 없을 때\n",
    "    - **Case3-2-2:** 삭제할 Node가 Parent Node의 오른쪽에 있고, 삭제할 Node의 오른쪽 자식 중, 가장 작은 값을 가진 Node의 오른쪽에 Child Node가 있을 때\n",
    "       - 가장 작은 값을 가진 Node의 Child Node가 왼쪽에 있을 경우는 없음, 왜냐하면 왼쪽 Node가 있다는 것은 해당 Node보다 더 작은 값을 가진 Node가 있다는 뜻이기 때문임\n",
    "\n",
    "\n",
    "<img src=\"http://www.fun-coding.org/00_Images/tree_remove_2child_code_right.png\" width=\"600\" />"
   ]
  },
  {
   "cell_type": "code",
   "execution_count": null,
   "metadata": {},
   "outputs": [],
   "source": [
    "        else:\n",
    "            self.change_node = self.cur_node.right\n",
    "            self.cahnge_node_parent = self.cur_node.right\n",
    "            \n",
    "            while self.change_node.left != None :\n",
    "                self.change_node_parent = self.change_node\n",
    "                self.change_node = self.change_node.left\n",
    "                \n",
    "            if self.change_node.right == None:\n",
    "                self.change_node_parent.left = None\n",
    "            else:\n",
    "                self.change_node_parent.left = self.change_node.right\n",
    "            \n",
    "            self.parent.right = self.change_node\n",
    "            self.change_node.left = self.cur_node.left\n",
    "            self.change_node.right = self.cur_node.right"
   ]
  },
  {
   "cell_type": "markdown",
   "metadata": {},
   "source": [
    "#### 5.5.5. 파이썬 전체 코드 구현"
   ]
  },
  {
   "cell_type": "code",
   "execution_count": 84,
   "metadata": {},
   "outputs": [],
   "source": [
    "class Node:\n",
    "    def __init__(self,value):\n",
    "        self.value = value\n",
    "        self.left = None\n",
    "        self.right = None\n",
    "        \n",
    "\n",
    "# =========================================================\n",
    "\n",
    "class NodeMgmt:\n",
    "    def __init__(self,head):\n",
    "        self.head = head\n",
    "        \n",
    "    def insert(self,value):\n",
    "        self.cur_node = self.head\n",
    "        \n",
    "        while True:\n",
    "            if value < self.cur_node.value:\n",
    "                if self.cur_node.left != None:\n",
    "                    self.cur_node = self.cur_node.left\n",
    "                else:\n",
    "                    self.cur_node.left = Node(value)\n",
    "                    break\n",
    "                    \n",
    "            else:\n",
    "                if self.cur_node.right != None:\n",
    "                    self.cur_node = self.cur_node.right\n",
    "                else:\n",
    "                    self.cur_node.right = Node(value)\n",
    "                    break\n",
    "                \n",
    "    def search(self,value):\n",
    "        self.cur_node =  self.head\n",
    "            \n",
    "        while self.cur_node:\n",
    "            if self.cur_node.value == value:\n",
    "                return True\n",
    "            elif value < self.cur_node.value:\n",
    "                self.cur_node = self.cur_node.left\n",
    "            else:\n",
    "                self.cur_node = self.cur_node.right\n",
    "        return False\n",
    "        \n",
    "        \n",
    "    def delete(self, value):\n",
    "        # 1. 삭제할 값의 유뮤 탐색\n",
    "        searched = False\n",
    "        self.cur_node = self.head\n",
    "        self.parent = self.head\n",
    "            \n",
    "        while self.cur_node:\n",
    "            if self.cur_node.value == value:\n",
    "                searched = True\n",
    "                break\n",
    "            elif self.cur_node.value > value:\n",
    "                self.parent = self.cur_node\n",
    "                self.cur_node = self.cur_node.left\n",
    "            else:\n",
    "                self.parent = self.cur_node\n",
    "                self.cur_node = self.cur_node.right\n",
    "                    \n",
    "        if searched == False:\n",
    "            return False\n",
    "            \n",
    "            \n",
    "        # 2. 각 경우에 대해서\n",
    "        # case 1. 맨 끝을 삭제할 경우 (더이상 자식이 없을 경우)\n",
    "        if self.cur_node.left == None and self.cur_node.right == None:\n",
    "            if value < self.parent.value:\n",
    "                self.parent.left = None\n",
    "            else:\n",
    "                self.parent.right = None\n",
    "            \n",
    "        # case 2. 삭제할 노드가 자식을 하나만 가지고 있을 경우\n",
    "            # 왼쪽 자식을 가질경우\n",
    "        elif self.cur_node.left != None and self.cur_node.right == None:\n",
    "            if value < self.parent.value :\n",
    "                self.parent.left = self.cur_node.left\n",
    "            else:\n",
    "                self.parent.right = self.cur_node.right\n",
    "            # 오른쪽 자식을 가질경우 \n",
    "        elif self.cur_node.left == None and self.cur_node.right != None:\n",
    "            if value < self.parent.value:\n",
    "                self.parent.left = self.cur_node.right\n",
    "            else:\n",
    "                self.parent.right = self.cur_node.right    \n",
    "\n",
    "        # case 3. 삭제할 노드가 자식을 왼/오 둘다 가지고 있을 경우\n",
    "        elif self.cur_node.left != None and self.cur_node.right != None:\n",
    "            if value < self.parent.value:\n",
    "                self.change_node = self.cur_node.right\n",
    "                self.change_node_parent = self.cur_node.right\n",
    "                while self.change_node.left != None:\n",
    "                    self.change_node_parent = self.change_node\n",
    "                    self.change_node = self.change.node.left\n",
    "                if self.change_node.right == None:\n",
    "                    self.change_node_parent.left =  None\n",
    "                else:\n",
    "                    self.change_node_parent_left = self.change_node_right\n",
    "                    \n",
    "                self.parent.left = self.change_node\n",
    "                self.change_node.right = self.cur_node.right\n",
    "                self.change_node.left = self.cur_node.left\n",
    "                    \n",
    "            else:\n",
    "                self.change_node = self.cur_node.right\n",
    "                self.change_node_parent = self.cur_node.right\n",
    "                while self.change_node.left != None:\n",
    "                    self.change_node_parent = self.change_node\n",
    "                    self.change_node = self.change_node.left\n",
    "                if self.change_node.right == None:\n",
    "                    self.change_node_parent.left = None\n",
    "                else :\n",
    "                    self.change_node_parent.left = self.change_node.right\n",
    "                    \n",
    "                self.parent.right = self.change_node\n",
    "                self.change_node.left = self.cur_node.left\n",
    "                self.change_node.right = self.cur_node.right\n",
    "                    \n",
    "        return True\n",
    "            "
   ]
  },
  {
   "cell_type": "markdown",
   "metadata": {
    "collapsed": true
   },
   "source": [
    "참고: http://ejklike.github.io/2018/01/09/traversing-a-binary-tree-1.html"
   ]
  },
  {
   "cell_type": "markdown",
   "metadata": {},
   "source": [
    "#### 5.5.6. 파이썬 전체 코드 테스트\n",
    "- random 라이브러리 활용\n",
    "  - random.randint(첫번째 숫자, 마지막 숫자): 첫번째 숫자부터 마지막 숫자 사이에 있는 숫자를 랜덤하게 선택해서 리턴\n",
    "    - 예: random.randint(0, 99): 0에서 99까지 숫자중 특정 숫자를 랜덤하게 선택해서 리턴해줌"
   ]
  },
  {
   "cell_type": "code",
   "execution_count": 85,
   "metadata": {},
   "outputs": [],
   "source": [
    "# 0 ~ 999 숫자 중에서 임의로 100개를 추출해서, 이진 탐색 트리에 입력, 검색, 삭제\n",
    "import random\n",
    "\n",
    "# 0 ~ 999 중, 100 개의 숫자 랜덤 선택\n",
    "bst_nums = set()\n",
    "while len(bst_nums) != 100:\n",
    "    bst_nums.add(random.randint(0, 999))\n",
    "# print (bst_nums)\n",
    "\n",
    "# 선택된 100개의 숫자를 이진 탐색 트리에 입력, 임의로 루트노드는 500을 넣기로 함\n",
    "head = Node(500)\n",
    "binary_tree = NodeMgmt(head)\n",
    "for num in bst_nums:\n",
    "    binary_tree.insert(num)\n",
    "    \n",
    "# 입력한 100개의 숫자 검색 (검색 기능 확인)\n",
    "for num in bst_nums:\n",
    "    if binary_tree.search(num) == False:\n",
    "        print ('search failed', num)\n",
    "\n",
    "# 입력한 100개의 숫자 중 10개의 숫자를 랜덤 선택\n",
    "delete_nums = set()\n",
    "bst_nums = list(bst_nums)\n",
    "while len(delete_nums) != 10:\n",
    "    delete_nums.add(bst_nums[random.randint(0, 99)])\n",
    "\n",
    "# 선택한 10개의 숫자를 삭제 (삭제 기능 확인)\n",
    "for del_num in delete_nums:\n",
    "    if binary_tree.delete(del_num) == False:\n",
    "        print('delete failed', del_num)"
   ]
  },
  {
   "cell_type": "markdown",
   "metadata": {},
   "source": [
    "### 6. 이진 탐색 트리의 시간 복잡도와 단점\n",
    "#### 6.1. 시간 복잡도 (탐색시)\n",
    "  - depth (트리의 높이) 를 h라고 표기한다면, O(h)\n",
    "  - n개의 노드를 가진다면, $h = log_2{n} $ 에 가까우므로, 시간 복잡도는 $ O(log{n}) $ \n",
    "     - 참고: 빅오 표기법에서 $log{n}$ 에서의 log의 밑은 10이 아니라, 2입니다.\n",
    "       - 한번 실행시마다, 50%의 실행할 수도 있는 명령을 제거한다는 의미. 즉 50%의 실행시간을 단축시킬 수 있다는 것을 의미함\n",
    "<img src=\"https://www.mathwarehouse.com/programming/images/binary-search-tree/binary-search-tree-sorted-array-animation.gif\" />\n",
    "\n",
    "(출처: https://www.mathwarehouse.com/programming/gifs/binary-search-tree.php#binary-search-tree-insertion-node)"
   ]
  },
  {
   "cell_type": "markdown",
   "metadata": {},
   "source": []
  },
  {
   "cell_type": "markdown",
   "metadata": {},
   "source": [
    "#### 6.2. 이진 탐색 트리 단점\n",
    "  - 평균 시간 복잡도는 $ O(log{n}) $ 이지만, \n",
    "    - 이는 트리가 균형잡혀 있을 때의 평균 시간복잡도이며,\n",
    "  - 다음 예와 같이 구성되어 있을 경우, 최악의 경우는 링크드 리스트등과 동일한 성능을 보여줌 ( $O(n)$ )\n",
    "<img src=\"http://www.fun-coding.org/00_Images/worstcase_bst.png\" width=\"300\" />"
   ]
  }
 ],
 "metadata": {
  "kernelspec": {
   "display_name": "Python 3",
   "language": "python",
   "name": "python3"
  },
  "language_info": {
   "codemirror_mode": {
    "name": "ipython",
    "version": 3
   },
   "file_extension": ".py",
   "mimetype": "text/x-python",
   "name": "python",
   "nbconvert_exporter": "python",
   "pygments_lexer": "ipython3",
   "version": "3.7.6"
  },
  "nbTranslate": {
   "displayLangs": [
    "*"
   ],
   "hotkey": "alt-t",
   "langInMainMenu": true,
   "sourceLang": "en",
   "targetLang": "fr",
   "useGoogleTranslate": true
  }
 },
 "nbformat": 4,
 "nbformat_minor": 1
}
